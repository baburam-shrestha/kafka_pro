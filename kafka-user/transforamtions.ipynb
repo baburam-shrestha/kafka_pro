{
 "cells": [
  {
   "cell_type": "code",
   "execution_count": 1,
   "metadata": {},
   "outputs": [],
   "source": [
    "\n",
    "import pyspark\n",
    "import requests\n",
    "import json\n",
    "from pyspark.sql import SparkSession, functions as F\n",
    "\n"
   ]
  },
  {
   "cell_type": "code",
   "execution_count": 2,
   "metadata": {},
   "outputs": [
    {
     "name": "stdout",
     "output_type": "stream",
     "text": [
      "22/11/22 08:03:02 WARN Utils: Your hostname, Code resolves to a loopback address: 127.0.1.1; using 192.168.18.113 instead (on interface enp3s0)\n",
      "22/11/22 08:03:02 WARN Utils: Set SPARK_LOCAL_IP if you need to bind to another address\n"
     ]
    },
    {
     "name": "stderr",
     "output_type": "stream",
     "text": [
      "Setting default log level to \"WARN\".\n",
      "To adjust logging level use sc.setLogLevel(newLevel). For SparkR, use setLogLevel(newLevel).\n"
     ]
    },
    {
     "name": "stdout",
     "output_type": "stream",
     "text": [
      "22/11/22 08:03:04 WARN NativeCodeLoader: Unable to load native-hadoop library for your platform... using builtin-java classes where applicable\n"
     ]
    }
   ],
   "source": [
    "spark = SparkSession.builder.appName(\"Kafka Python Task User \").getOrCreate()"
   ]
  },
  {
   "cell_type": "code",
   "execution_count": 3,
   "metadata": {},
   "outputs": [
    {
     "name": "stderr",
     "output_type": "stream",
     "text": [
      "                                                                                \r"
     ]
    },
    {
     "name": "stdout",
     "output_type": "stream",
     "text": [
      "root\n",
      " |-- contributions_count: long (nullable = true)\n",
      " |-- github_profile: string (nullable = true)\n",
      " |-- gravatar_id: string (nullable = true)\n",
      " |-- id: long (nullable = true)\n",
      " |-- link: string (nullable = true)\n",
      " |-- nickname: string (nullable = true)\n",
      " |-- organisations: array (nullable = true)\n",
      " |    |-- element: struct (containsNull = true)\n",
      " |    |    |-- avatar_url: string (nullable = true)\n",
      " |    |    |-- link: string (nullable = true)\n",
      " |    |    |-- login: string (nullable = true)\n",
      " |-- pull_requests: array (nullable = true)\n",
      " |    |-- element: struct (containsNull = true)\n",
      " |    |    |-- body: string (nullable = true)\n",
      " |    |    |-- created_at: string (nullable = true)\n",
      " |    |    |-- issue_url: string (nullable = true)\n",
      " |    |    |-- repo_name: string (nullable = true)\n",
      " |    |    |-- title: string (nullable = true)\n",
      " |-- twitter_profile: string (nullable = true)\n",
      "\n"
     ]
    }
   ],
   "source": [
    "users_df = spark.read.format('json').option('multiLine', 'true').load('response_consumer1.json')\n",
    "users_df.printSchema()"
   ]
  },
  {
   "cell_type": "code",
   "execution_count": 4,
   "metadata": {},
   "outputs": [
    {
     "name": "stderr",
     "output_type": "stream",
     "text": [
      "                                                                                \r"
     ]
    },
    {
     "data": {
      "text/plain": [
       "61"
      ]
     },
     "execution_count": 4,
     "metadata": {},
     "output_type": "execute_result"
    }
   ],
   "source": [
    "users_df.count()"
   ]
  },
  {
   "cell_type": "code",
   "execution_count": 5,
   "metadata": {},
   "outputs": [],
   "source": [
    "#Transformation1: Making the  organization dataframe for organization column(nested)\n",
    "users_df=users_df.withColumnRenamed(\"gravatar_id\",\"gravater\")\\\n",
    "                    .withColumnRenamed(\"github_profile\",\"github\")\\\n",
    "                    .withColumnRenamed(\"twitter_profile\",\"twitter\")"
   ]
  },
  {
   "cell_type": "code",
   "execution_count": 6,
   "metadata": {},
   "outputs": [
    {
     "data": {
      "text/plain": [
       "['contributions_count',\n",
       " 'github',\n",
       " 'gravater',\n",
       " 'id',\n",
       " 'link',\n",
       " 'nickname',\n",
       " 'organisations',\n",
       " 'pull_requests',\n",
       " 'twitter']"
      ]
     },
     "execution_count": 6,
     "metadata": {},
     "output_type": "execute_result"
    }
   ],
   "source": [
    "users_df.columns"
   ]
  },
  {
   "cell_type": "code",
   "execution_count": 7,
   "metadata": {},
   "outputs": [
    {
     "name": "stdout",
     "output_type": "stream",
     "text": [
      "root\n",
      " |-- contributions_count: long (nullable = true)\n",
      " |-- github: string (nullable = true)\n",
      " |-- gravater: string (nullable = true)\n",
      " |-- id: long (nullable = true)\n",
      " |-- link: string (nullable = true)\n",
      " |-- nickname: string (nullable = true)\n",
      " |-- organisations: array (nullable = true)\n",
      " |    |-- element: struct (containsNull = true)\n",
      " |    |    |-- avatar_url: string (nullable = true)\n",
      " |    |    |-- link: string (nullable = true)\n",
      " |    |    |-- login: string (nullable = true)\n",
      " |-- pull_requests: array (nullable = true)\n",
      " |    |-- element: struct (containsNull = true)\n",
      " |    |    |-- body: string (nullable = true)\n",
      " |    |    |-- created_at: string (nullable = true)\n",
      " |    |    |-- issue_url: string (nullable = true)\n",
      " |    |    |-- repo_name: string (nullable = true)\n",
      " |    |    |-- title: string (nullable = true)\n",
      " |-- twitter: string (nullable = true)\n",
      "\n"
     ]
    }
   ],
   "source": [
    "users_df.printSchema()"
   ]
  },
  {
   "cell_type": "code",
   "execution_count": 8,
   "metadata": {},
   "outputs": [
    {
     "name": "stdout",
     "output_type": "stream",
     "text": [
      "root\n",
      " |-- id: long (nullable = true)\n",
      " |-- nickname: string (nullable = true)\n",
      " |-- gravater: string (nullable = true)\n",
      " |-- github: string (nullable = true)\n",
      " |-- twitter: string (nullable = true)\n",
      " |-- link: string (nullable = true)\n",
      "\n"
     ]
    }
   ],
   "source": [
    "user=users_df.select([\"id\",\"nickname\",\"gravater\",\"github\",\"twitter\",\"link\"])\n",
    "user.printSchema()"
   ]
  },
  {
   "cell_type": "code",
   "execution_count": 9,
   "metadata": {},
   "outputs": [
    {
     "name": "stdout",
     "output_type": "stream",
     "text": [
      "+-----+-------------+--------+--------------------+--------------------+--------------------+\n",
      "|   id|     nickname|gravater|              github|             twitter|                link|\n",
      "+-----+-------------+--------+--------------------+--------------------+--------------------+\n",
      "|20344|  bastelfreak|        |https://github.co...|                null|https://24pullreq...|\n",
      "| 9708|   adamchainz|        |https://github.co...|                null|https://24pullreq...|\n",
      "|27452|   naomi-lgbt|        |https://github.co...|                null|https://24pullreq...|\n",
      "|  773|        Trott|        |https://github.co...|                null|https://24pullreq...|\n",
      "| 6031|   localheinz|        |https://github.co...|https://twitter.c...|https://24pullreq...|\n",
      "| 3914|     nschonni|        |https://github.co...|                null|https://24pullreq...|\n",
      "|27109|    snitin315|        |https://github.co...|                null|https://24pullreq...|\n",
      "|10386|  changeworld|        |https://github.co...|https://twitter.c...|https://24pullreq...|\n",
      "|27147|   dilanSachi|        |https://github.co...|                null|https://24pullreq...|\n",
      "| 4858|      Turbo87|        |https://github.co...|                null|https://24pullreq...|\n",
      "|13689|NullVoxPopuli|        |https://github.co...|https://twitter.c...|https://24pullreq...|\n",
      "|10859|        skitt|        |https://github.co...|                null|https://24pullreq...|\n",
      "|27742|     Chriscbr|        |https://github.co...|                null|https://24pullreq...|\n",
      "|27130|Pradumnasaraf|        |https://github.co...|https://twitter.c...|https://24pullreq...|\n",
      "| 9224|   jamietanna|        |https://github.co...|                null|https://24pullreq...|\n",
      "| 9855|      devlead|        |https://github.co...|                null|https://24pullreq...|\n",
      "|27060|krishguptadev|        |https://github.co...|https://twitter.c...|https://24pullreq...|\n",
      "|27238|       cariad|        |https://github.co...|                null|https://24pullreq...|\n",
      "|16118|       styfle|        |https://github.co...|                null|https://24pullreq...|\n",
      "|27755|     Gamma749|        |https://github.co...|                null|https://24pullreq...|\n",
      "+-----+-------------+--------+--------------------+--------------------+--------------------+\n",
      "only showing top 20 rows\n",
      "\n"
     ]
    }
   ],
   "source": [
    "\n",
    "user.show()"
   ]
  },
  {
   "cell_type": "code",
   "execution_count": 18,
   "metadata": {},
   "outputs": [],
   "source": [
    "from kafka import KafkaProducer\n",
    "from json import dumps\n",
    "# creating the kafka producer \n",
    "producer_user= KafkaProducer(bootstrap_servers=['localhost:9092'],\n",
    "    value_serializer=lambda x:dumps(x).encode('utf-8'))\n",
    "count=user.select(\"id\").count()\n",
    "# collect data from the  dataframe and to topic\n",
    "for i in range(count-1):\n",
    "    producer_user.send(\"user\",user.collect()[i])"
   ]
  },
  {
   "cell_type": "code",
   "execution_count": 10,
   "metadata": {},
   "outputs": [
    {
     "name": "stdout",
     "output_type": "stream",
     "text": [
      "+--------------------+\n",
      "|       organisations|\n",
      "+--------------------+\n",
      "|[{https://avatars...|\n",
      "|[{https://avatars...|\n",
      "|[{https://avatars...|\n",
      "|[{https://avatars...|\n",
      "|[{https://avatars...|\n",
      "|[{https://avatars...|\n",
      "|[{https://avatars...|\n",
      "|                  []|\n",
      "|                  []|\n",
      "|[{https://avatars...|\n",
      "|[{https://avatars...|\n",
      "|[{https://avatars...|\n",
      "|[{https://avatars...|\n",
      "|[{https://avatars...|\n",
      "|[{https://avatars...|\n",
      "|[{https://avatars...|\n",
      "|[{https://avatars...|\n",
      "|                  []|\n",
      "|[{https://avatars...|\n",
      "|                  []|\n",
      "+--------------------+\n",
      "only showing top 20 rows\n",
      "\n"
     ]
    }
   ],
   "source": [
    "organisation=users_df.select(\"organisations\")\n",
    "organisation.show()\n"
   ]
  },
  {
   "cell_type": "code",
   "execution_count": 12,
   "metadata": {},
   "outputs": [
    {
     "name": "stdout",
     "output_type": "stream",
     "text": [
      "root\n",
      " |-- login: array (nullable = true)\n",
      " |    |-- element: string (containsNull = true)\n",
      " |-- avatar_url: array (nullable = true)\n",
      " |    |-- element: string (containsNull = true)\n",
      " |-- link: array (nullable = true)\n",
      " |    |-- element: string (containsNull = true)\n",
      "\n"
     ]
    }
   ],
   "source": [
    "organisation_df = users_df.select(\\\n",
    "    F.col(\"organisations.login\"),\\\n",
    "    F.col(\"organisations.avatar_url\"),\\\n",
    "    F.col(\"organisations.link\"))\n",
    "\n",
    "organisation_df.printSchema()\n",
    "    "
   ]
  },
  {
   "cell_type": "code",
   "execution_count": 13,
   "metadata": {},
   "outputs": [
    {
     "name": "stdout",
     "output_type": "stream",
     "text": [
      "+--------------------+--------------------+--------------------+\n",
      "|               login|          avatar_url|                link|\n",
      "+--------------------+--------------------+--------------------+\n",
      "|[example42, secpu...|[https://avatars....|[https://24pullre...|\n",
      "|[django, djangolo...|[https://avatars....|[https://24pullre...|\n",
      "|[freeCodeCamp, st...|[https://avatars....|[https://24pullre...|\n",
      "|[ucsf-ckm, ilios,...|[https://avatars....|[https://24pullre...|\n",
      "|[zendframework, b...|[https://avatars....|[https://24pullre...|\n",
      "|[flot, wet-boew, ...|[https://avatars....|[https://24pullre...|\n",
      "|[collective, webp...|[https://avatars....|[https://24pullre...|\n",
      "|                  []|                  []|                  []|\n",
      "|                  []|                  []|                  []|\n",
      "|[geoalchemy, XCSo...|[https://avatars....|[https://24pullre...|\n",
      "|       [CrowdStrike]|[https://avatars....|[https://24pullre...|\n",
      "|[apache, openshif...|[https://avatars....|[https://24pullre...|\n",
      "|      [plasma-umass]|[https://avatars....|[https://24pullre...|\n",
      "|[vruksheco, dev-p...|[https://avatars....|[https://24pullre...|\n",
      "|[HackSocNotts, ph...|[https://avatars....|[https://24pullre...|\n",
      "|[github-beta, cak...|[https://avatars....|[https://24pullre...|\n",
      "|[CeruleanCodersCo...|[https://avatars....|[https://24pullre...|\n",
      "|                  []|                  []|                  []|\n",
      "|[rockharbor, mark...|[https://avatars....|[https://24pullre...|\n",
      "|                  []|                  []|                  []|\n",
      "+--------------------+--------------------+--------------------+\n",
      "only showing top 20 rows\n",
      "\n"
     ]
    }
   ],
   "source": [
    "organisation_df.na.drop(\"all\")\n",
    "organisation_df.show()"
   ]
  },
  {
   "cell_type": "code",
   "execution_count": null,
   "metadata": {},
   "outputs": [],
   "source": []
  },
  {
   "cell_type": "code",
   "execution_count": 19,
   "metadata": {},
   "outputs": [],
   "source": [
    "from kafka import KafkaProducer\n",
    "from json import dumps\n",
    "# creating the kafka producer \n",
    "producer_org = KafkaProducer(bootstrap_servers=['localhost:9092'],\n",
    "    value_serializer=lambda x:dumps(x).encode('utf-8'))\n",
    "\n",
    "count=organisation_df.select(\"login\").count()\n",
    "# collect data from the  dataframe and to topic\n",
    "for i in range(count-1):\n",
    "    producer_org.send(\"organisation\",organisation_df.collect()[i])"
   ]
  },
  {
   "cell_type": "code",
   "execution_count": 14,
   "metadata": {},
   "outputs": [
    {
     "name": "stdout",
     "output_type": "stream",
     "text": [
      "+--------------------+\n",
      "|       pull_requests|\n",
      "+--------------------+\n",
      "|[{, 2018-12-01 20...|\n",
      "|[{null, 2016-12-0...|\n",
      "|[{# Pull Request\\...|\n",
      "|[{, 2015-12-08 04...|\n",
      "|[{This PR\\r\\n\\r\\n...|\n",
      "|[{Travis seemed t...|\n",
      "|[{Update CLA link...|\n",
      "|[{, 2016-12-11 16...|\n",
      "|[{## Purpose\\r\\n$...|\n",
      "|[{The `ProjectStr...|\n",
      "|[{, 2018-12-23 17...|\n",
      "|[{This adds a sim...|\n",
      "|[{We recently swi...|\n",
      "|[{Added Tutorial ...|\n",
      "|[{It's not quite ...|\n",
      "|[{, 2015-12-08 15...|\n",
      "|[{There is a slig...|\n",
      "|[{null, 2021-12-1...|\n",
      "|[{Reuse variables...|\n",
      "|[{Changed docker....|\n",
      "+--------------------+\n",
      "only showing top 20 rows\n",
      "\n"
     ]
    }
   ],
   "source": [
    "pull_request=users_df.select(\"pull_requests\")\n",
    "pull_request.show()"
   ]
  },
  {
   "cell_type": "code",
   "execution_count": 15,
   "metadata": {},
   "outputs": [
    {
     "name": "stdout",
     "output_type": "stream",
     "text": [
      "root\n",
      " |-- title: array (nullable = true)\n",
      " |    |-- element: string (containsNull = true)\n",
      " |-- issue_url: array (nullable = true)\n",
      " |    |-- element: string (containsNull = true)\n",
      " |-- repo_name: array (nullable = true)\n",
      " |    |-- element: string (containsNull = true)\n",
      " |-- body: array (nullable = true)\n",
      " |    |-- element: string (containsNull = true)\n",
      " |-- created_at: array (nullable = true)\n",
      " |    |-- element: string (containsNull = true)\n",
      "\n"
     ]
    }
   ],
   "source": [
    "pull_request_df = users_df.select(\\\n",
    "    F.col(\"pull_requests.title\"),\\\n",
    "    F.col(\"pull_requests.issue_url\"),\\\n",
    "    F.col(\"pull_requests.repo_name\"),\\\n",
    "    F.col(\"pull_requests.body\"),\\\n",
    "    F.col(\"pull_requests.created_at\"),\n",
    "    )\n",
    "\n",
    "pull_request_df.printSchema()"
   ]
  },
  {
   "cell_type": "code",
   "execution_count": 16,
   "metadata": {},
   "outputs": [
    {
     "name": "stdout",
     "output_type": "stream",
     "text": [
      "+--------------------+--------------------+--------------------+--------------------+--------------------+\n",
      "|               title|           issue_url|           repo_name|                body|          created_at|\n",
      "+--------------------+--------------------+--------------------+--------------------+--------------------+\n",
      "|[Update multiple ...|[https://github.c...|[bastelfreak/pupp...|[, null, Both pac...|[2018-12-01 20:14...|\n",
      "|[Upgrade requirem...|[https://github.c...|[adamchainz/pytes...|[null, null, null...|[2016-12-06 08:48...|\n",
      "|[feat: initial in...|[https://github.c...|[nhcarrigan/adven...|[# Pull Request\\r...|[2021-12-01 15:44...|\n",
      "|[doc: copyedit ch...|[https://github.c...|[nodejs/node, nod...|[, , , , , , , `e...|[2015-12-08 04:53...|\n",
      "|[Fix: Test name, ...|[https://github.c...|[thephpleague/rou...|[This PR\\r\\n\\r\\n*...|[2015-12-14 10:49...|\n",
      "|[Bump the ruby ve...|[https://github.c...|[github/governmen...|[Travis seemed to...|[2016-12-01 17:00...|\n",
      "|[docs: update CLA...|[https://github.c...|[webpack/webpack....|[Update CLA link ...|[2021-12-01 01:12...|\n",
      "|[Fix private_clas...|[https://github.c...|[changeworld/visi...|[, , , ![screenca...|[2016-12-11 16:18...|\n",
      "|[Move dependent s...|[https://github.c...|[ballerina-platfo...|[## Purpose\\r\\n$s...|[2021-12-02 05:17...|\n",
      "|[Use ProjectCompo...|[https://github.c...|[Turbo87/intellij...|[The `ProjectStru...|[2015-12-09 14:51...|\n",
      "|[Add component ma...|[https://github.c...|[ember-cli/ember-...|[, , , https://de...|[2018-12-23 17:25...|\n",
      "|[KARAF-4897 - Add...|[https://github.c...|[apache/karaf, bi...|[This adds a simp...|[2016-12-19 11:58...|\n",
      "|[fix: snapshot re...|[https://github.c...|[projen/projen, p...|[We recently swit...|[2021-12-01 01:50...|\n",
      "|[null, null, null...|[https://github.c...|[LinkFree, LinkFr...|[Added Tutorial G...|[2021-12-03 12:00...|\n",
      "|[Add screenshot t...|[https://github.c...|[bertrandkeller/o...|[It's not quite o...|[2016-12-04 21:47...|\n",
      "|[Fixed typos, Fix...|[https://github.c...|[WCOMAB/Cake.Kudu...|[, UseFiles() met...|[2015-12-08 15:36...|\n",
      "|[Format files, fi...|[https://github.c...|[EddieHubCommunit...|[There is a sligh...|[2021-12-01 04:11...|\n",
      "|[Remove --ci flag...|[https://github.c...|[cariad/smokestac...|[null, null, null...|[2021-12-17 12:54...|\n",
      "|[Update normalize...|[https://github.c...|[Jam3/math-as-cod...|[Reuse variables ...|[2017-12-18 17:20...|\n",
      "|[Depreciation upd...|[https://github.c...|[Gamma749/Hypderl...|[Changed docker.c...|[2021-12-03 00:13...|\n",
      "+--------------------+--------------------+--------------------+--------------------+--------------------+\n",
      "only showing top 20 rows\n",
      "\n"
     ]
    }
   ],
   "source": [
    "pull_request_df.na.drop(\"all\")\n",
    "pull_request_df.show()"
   ]
  },
  {
   "cell_type": "code",
   "execution_count": 33,
   "metadata": {},
   "outputs": [],
   "source": [
    "\n",
    "from kafka import KafkaProducer\n",
    "from json import dumps\n",
    "# creating the kafka producer \n",
    "producer_pull = KafkaProducer(bootstrap_servers=['localhost:9092'],\n",
    "    value_serializer=lambda x:dumps(x).encode('utf-8'))\n",
    "\n",
    "count=pull_request_df.select(\"title\").count()\n",
    "# collect data from the  dataframe and to topic\n",
    "for i in range(count-1):\n",
    "    producer_pull.send(\"pull_request\",pull_request_df.collect()[i])"
   ]
  }
 ],
 "metadata": {
  "kernelspec": {
   "display_name": "Python 3 (ipykernel)",
   "language": "python",
   "name": "python3"
  },
  "language_info": {
   "codemirror_mode": {
    "name": "ipython",
    "version": 3
   },
   "file_extension": ".py",
   "mimetype": "text/x-python",
   "name": "python",
   "nbconvert_exporter": "python",
   "pygments_lexer": "ipython3",
   "version": "3.10.6"
  },
  "vscode": {
   "interpreter": {
    "hash": "916dbcbb3f70747c44a77c7bcd40155683ae19c65e1c03b4aa3499c5328201f1"
   }
  }
 },
 "nbformat": 4,
 "nbformat_minor": 4
}
